{
 "cells": [
  {
   "cell_type": "code",
   "execution_count": 37,
   "metadata": {},
   "outputs": [],
   "source": [
    "import json\n",
    "import os\n",
    "import random\n",
    "from tqdm import tqdm\n",
    "import xgboost as xgb\n",
    "from sklearn.metrics import accuracy_score,log_loss"
   ]
  },
  {
   "cell_type": "markdown",
   "metadata": {},
   "source": [
    "Read `channel-based` annotation to a python dictionary"
   ]
  },
  {
   "cell_type": "code",
   "execution_count": 38,
   "metadata": {},
   "outputs": [],
   "source": [
    "training_data_path = \"../bipolar_eeg_dataset/train_filtred_channel_based.json\"\n",
    "testing_data_path = \"../bipolar_eeg_dataset/dev_filtred_channel_based.json\""
   ]
  },
  {
   "cell_type": "code",
   "execution_count": 39,
   "metadata": {},
   "outputs": [],
   "source": [
    "with open(training_data_path,'r') as f:\n",
    "    training_data = json.load(f)\n",
    "\n",
    "with open(testing_data_path,'r') as f:\n",
    "    testing_data = json.load(f)"
   ]
  },
  {
   "cell_type": "markdown",
   "metadata": {},
   "source": [
    "## Data generator"
   ]
  },
  {
   "cell_type": "code",
   "execution_count": 40,
   "metadata": {},
   "outputs": [],
   "source": [
    "import numpy as np\n",
    "import torch\n",
    "import torchaudio"
   ]
  },
  {
   "cell_type": "markdown",
   "metadata": {},
   "source": [
    "## XGBoost"
   ]
  },
  {
   "cell_type": "code",
   "execution_count": 41,
   "metadata": {},
   "outputs": [],
   "source": [
    "# Set the tree_method parameter to gpu_hist\n",
    "params = {'tree_method': 'gpu_hist'}\n",
    "# Set the gpu_id parameter to the ID of your GPU\n",
    "params['gpu_id'] = 0\n",
    "\n",
    "xgb_clf = xgb.XGBClassifier(tree_method='gpu_hist',\n",
    "                            learning_rate=1e-3,\n",
    "                            nthread=4,\n",
    "                            max_depth=10,\n",
    "                            eval_metric='logloss',\n",
    "                            objective=\"binary:logistic\")"
   ]
  },
  {
   "cell_type": "code",
   "execution_count": 42,
   "metadata": {},
   "outputs": [],
   "source": [
    "from sklearn.preprocessing import LabelEncoder\n",
    "import sys\n",
    "sys.path.append(\"..\")\n",
    "from utils.custom_loader import XGBLoader"
   ]
  },
  {
   "cell_type": "code",
   "execution_count": 43,
   "metadata": {},
   "outputs": [],
   "source": [
    "test_loader = XGBLoader(testing_data[1],window_size=1)"
   ]
  },
  {
   "cell_type": "code",
   "execution_count": 44,
   "metadata": {},
   "outputs": [],
   "source": [
    "x_t = None\n",
    "y_t = None\n",
    "for x,y in test_loader:\n",
    "  if y.sum() != 0:\n",
    "    x_t,y_t = x,y\n",
    "    break"
   ]
  },
  {
   "cell_type": "code",
   "execution_count": 9,
   "metadata": {},
   "outputs": [
    {
     "data": {
      "text/plain": [
       "array([0., 0., 0., 0., 0., 0., 0., 0., 0., 0., 0., 0., 1., 1., 0., 0., 0.,\n",
       "       0., 0., 1., 0., 1.])"
      ]
     },
     "execution_count": 9,
     "metadata": {},
     "output_type": "execute_result"
    }
   ],
   "source": [
    "y_t"
   ]
  },
  {
   "cell_type": "markdown",
   "metadata": {},
   "source": [
    "## Evaluate trained XGBoost."
   ]
  },
  {
   "cell_type": "markdown",
   "metadata": {},
   "source": [
    "1. `Benchmark`: No preprocessing of signal"
   ]
  },
  {
   "cell_type": "code",
   "execution_count": null,
   "metadata": {},
   "outputs": [],
   "source": [
    "benchmark_model_file = \"../utils/xgb_model_n_300_lr_0.02.json\"\n",
    "os.path.exists(benchmark_model_file)\n",
    "\n",
    "model = xgb.Booster()\n",
    "\n",
    "#model.set_param({\"tree_method\":\"gpu_hist\",\"max_depth\":10})\n",
    "model.load_model(benchmark_model_file)"
   ]
  },
  {
   "cell_type": "code",
   "execution_count": null,
   "metadata": {},
   "outputs": [
    {
     "data": {
      "text/plain": [
       "(22, 7)"
      ]
     },
     "execution_count": 16,
     "metadata": {},
     "output_type": "execute_result"
    }
   ],
   "source": [
    "x_t.shape"
   ]
  },
  {
   "cell_type": "code",
   "execution_count": null,
   "metadata": {},
   "outputs": [],
   "source": [
    "preds = model.predict(xgb.DMatrix(x_t))"
   ]
  },
  {
   "cell_type": "code",
   "execution_count": null,
   "metadata": {},
   "outputs": [
    {
     "data": {
      "text/plain": [
       "array([1, 0, 0, 1, 1, 1, 1, 1, 1, 0, 0, 0, 1, 0, 1, 0, 0, 1, 1, 1, 1, 1],\n",
       "      dtype=uint8)"
      ]
     },
     "execution_count": 20,
     "metadata": {},
     "output_type": "execute_result"
    }
   ],
   "source": [
    "(preds > 0.5).astype(np.uint8)"
   ]
  },
  {
   "cell_type": "code",
   "execution_count": null,
   "metadata": {},
   "outputs": [
    {
     "data": {
      "text/plain": [
       "array([0, 0, 0, 0, 0, 0, 0, 0, 0, 0, 0, 0, 1, 1, 0, 0, 0, 0, 0, 1, 0, 1],\n",
       "      dtype=uint8)"
      ]
     },
     "execution_count": 22,
     "metadata": {},
     "output_type": "execute_result"
    }
   ],
   "source": [
    "y_t.astype(np.uint8)"
   ]
  },
  {
   "cell_type": "code",
   "execution_count": 49,
   "metadata": {},
   "outputs": [],
   "source": [
    "def get_data(dataset: list, window: int = 1):\n",
    "    x = []\n",
    "    y = []\n",
    "    x_19 = []\n",
    "    y_19 = []\n",
    "\n",
    "    bar = tqdm(dataset, total=len(dataset), desc=\"Generating Matrix\")\n",
    "\n",
    "    for i, eeg_annot in enumerate(bar):\n",
    "        montage = eeg_annot[\"montage\"]\n",
    "        dg = XGBLoader(eeg_annot, window_size=window)\n",
    "        j = 0\n",
    "        for _x, _y in dg:\n",
    "            if _y.sum() == 0:\n",
    "                continue\n",
    "            if np.isnan(_x).sum() == 0:\n",
    "                if montage not in [\"01_tcp_ar\", \"02_tcp_le\"]:\n",
    "                    x_19.append(_x)  # _x[[3, 5, 12, 13], :])\n",
    "                    y_19.append(_y)  # _y[[3, 5, 12, 13]])\n",
    "                    continue\n",
    "                x.append(_x)  # _x[[3, 5, 14, 15], :])\n",
    "                y.append(_y)  # _y[[3, 5, 14, 15]])\n",
    "\n",
    "    x_np = np.array(x)\n",
    "    y_np = np.array(y)\n",
    "\n",
    "    x_np_19 = np.array(x_19)\n",
    "    y_np_19 = np.array(y_19)\n",
    "\n",
    "    x_np = x_np.reshape(-1, x_np.shape[-1])\n",
    "    y_np = y_np.reshape(-1)\n",
    "\n",
    "    x_np_19 = x_np_19.reshape(-1, x_np_19.shape[-1])\n",
    "    y_np_19 = y_np_19.reshape(-1)\n",
    "\n",
    "    x_np = np.concatenate((x_np, x_np_19), axis=0)\n",
    "    y_np = np.concatenate((y_np, y_np_19), axis=0)\n",
    "\n",
    "    return x_np, y_np"
   ]
  },
  {
   "cell_type": "code",
   "execution_count": 52,
   "metadata": {},
   "outputs": [
    {
     "name": "stderr",
     "output_type": "stream",
     "text": [
      "Generating Matrix: 100%|██████████| 100/100 [01:28<00:00,  1.13it/s]\n"
     ]
    },
    {
     "ename": "ValueError",
     "evalue": "cannot reshape array of size 0 into shape (0)",
     "output_type": "error",
     "traceback": [
      "\u001b[0;31m---------------------------------------------------------------------------\u001b[0m",
      "\u001b[0;31mValueError\u001b[0m                                Traceback (most recent call last)",
      "Cell \u001b[0;32mIn[52], line 1\u001b[0m\n\u001b[0;32m----> 1\u001b[0m x_,y_ \u001b[39m=\u001b[39m get_data(testing_data[:\u001b[39m100\u001b[39m])\n",
      "Cell \u001b[0;32mIn[49], line 33\u001b[0m, in \u001b[0;36mget_data\u001b[0;34m(dataset, window)\u001b[0m\n\u001b[1;32m     30\u001b[0m x_np \u001b[39m=\u001b[39m x_np\u001b[39m.\u001b[39mreshape(\u001b[39m-\u001b[39m\u001b[39m1\u001b[39m, x_np\u001b[39m.\u001b[39mshape[\u001b[39m-\u001b[39m\u001b[39m1\u001b[39m])\n\u001b[1;32m     31\u001b[0m y_np \u001b[39m=\u001b[39m y_np\u001b[39m.\u001b[39mreshape(\u001b[39m-\u001b[39m\u001b[39m1\u001b[39m)\n\u001b[0;32m---> 33\u001b[0m x_np_19 \u001b[39m=\u001b[39m x_np_19\u001b[39m.\u001b[39mreshape(\u001b[39m-\u001b[39m\u001b[39m1\u001b[39m, x_np_19\u001b[39m.\u001b[39mshape[\u001b[39m-\u001b[39m\u001b[39m1\u001b[39m])\n\u001b[1;32m     34\u001b[0m y_np_19 \u001b[39m=\u001b[39m y_np_19\u001b[39m.\u001b[39mreshape(\u001b[39m-\u001b[39m\u001b[39m1\u001b[39m)\n\u001b[1;32m     36\u001b[0m x_np \u001b[39m=\u001b[39m np\u001b[39m.\u001b[39mconcatenate((x_np, x_np_19), axis\u001b[39m=\u001b[39m\u001b[39m0\u001b[39m)\n",
      "\u001b[0;31mValueError\u001b[0m: cannot reshape array of size 0 into shape (0)"
     ]
    }
   ],
   "source": [
    "x_,y_ = get_data(testing_data[:100])"
   ]
  },
  {
   "cell_type": "code",
   "execution_count": null,
   "metadata": {},
   "outputs": [
    {
     "data": {
      "text/plain": [
       "(8312492,)"
      ]
     },
     "execution_count": 48,
     "metadata": {},
     "output_type": "execute_result"
    }
   ],
   "source": [
    "y_.shape"
   ]
  },
  {
   "cell_type": "code",
   "execution_count": null,
   "metadata": {},
   "outputs": [
    {
     "data": {
      "text/plain": [
       "(1216436, 7)"
      ]
     },
     "execution_count": 47,
     "metadata": {},
     "output_type": "execute_result"
    }
   ],
   "source": [
    "x_.shape"
   ]
  }
 ],
 "metadata": {
  "kernelspec": {
   "display_name": "eeg",
   "language": "python",
   "name": "python3"
  },
  "language_info": {
   "codemirror_mode": {
    "name": "ipython",
    "version": 3
   },
   "file_extension": ".py",
   "mimetype": "text/x-python",
   "name": "python",
   "nbconvert_exporter": "python",
   "pygments_lexer": "ipython3",
   "version": "3.11.4"
  },
  "orig_nbformat": 4
 },
 "nbformat": 4,
 "nbformat_minor": 2
}
