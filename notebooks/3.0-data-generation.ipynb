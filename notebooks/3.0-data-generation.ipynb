{
 "cells": [
  {
   "cell_type": "code",
   "execution_count": 1,
   "metadata": {},
   "outputs": [],
   "source": [
    "import json\n",
    "import os\n",
    "import random\n",
    "from tqdm import tqdm\n",
    "import xgboost as xgb\n",
    "from sklearn.metrics import accuracy_score,log_loss"
   ]
  },
  {
   "cell_type": "markdown",
   "metadata": {},
   "source": [
    "Read `channel-based` annotation to a python dictionary"
   ]
  },
  {
   "cell_type": "code",
   "execution_count": 2,
   "metadata": {},
   "outputs": [],
   "source": [
    "training_data_path = \"../bipolar_eeg_dataset/train_filtred_channel_based.json\"\n",
    "testing_data_path = \"../bipolar_eeg_dataset/dev_filtred_channel_based.json\""
   ]
  },
  {
   "cell_type": "code",
   "execution_count": 3,
   "metadata": {},
   "outputs": [],
   "source": [
    "with open(training_data_path,'r') as f:\n",
    "    training_data = json.load(f)\n",
    "\n",
    "with open(testing_data_path,'r') as f:\n",
    "    testing_data = json.load(f)"
   ]
  },
  {
   "cell_type": "markdown",
   "metadata": {},
   "source": [
    "## Data generator"
   ]
  },
  {
   "cell_type": "code",
   "execution_count": 4,
   "metadata": {},
   "outputs": [],
   "source": [
    "import numpy as np\n",
    "import torch\n",
    "import torchaudio"
   ]
  },
  {
   "cell_type": "code",
   "execution_count": 5,
   "metadata": {},
   "outputs": [],
   "source": [
    "def get_batch(sampled_data:torch.Tensor,target:torch.Tensor,batch_size:int = 8):\n",
    "    \"\"\" Split the sampled data into tensors of each with `batch_size` as the first dimmension \n",
    "    Args:\n",
    "      sampled_data (torch.Tensor): resampled eeg reading with shape (nW,nC,D)\n",
    "      target (torch.Tenosr): target labels for each sample (nW,22)\n",
    "      batch_size (int): batch_size\n",
    "    Returns:\n",
    "      (torch.Tensor,torch.Tensor): batch\n",
    "\n",
    "    \"\"\"\n",
    "    x_batch = torch.split(sampled_data,batch_size,dim=0)[:-1]\n",
    "    y_batch = torch.split(target,batch_size,dim=0)[:-1]\n",
    "\n",
    "    return x_batch,y_batch"
   ]
  },
  {
   "cell_type": "code",
   "execution_count": 6,
   "metadata": {},
   "outputs": [],
   "source": [
    "\n",
    "def create_window(eeg_sample:np.ndarray,channel_annot:dict,s_freq:int,window_size:int=20):\n",
    "    \"\"\" Resample and generate class label tensor for an eeg reading.\n",
    "    Args:\n",
    "      eeg_sample (nd.array): Raw EEG data\n",
    "      channel_annot (dict): corresponding annoations\n",
    "      s_fre (int): sampling frequency.\n",
    "      window_size: window_size in seconds.\n",
    "    \"\"\"\n",
    "    context_length = window_size * s_freq # change window_size(seconds) to sequence_lenth\n",
    "    sample_length = eeg_sample.shape[-1] # total length of the raw eeg signal\n",
    "\n",
    "    # pad the `eeg_sample` to the nearest integer factor of `window_size`\n",
    "    padding_size = int(\n",
    "    context_length * torch.ceil(torch.tensor(sample_length / context_length)).item()\n",
    ")\n",
    "    padded_zero = torch.zeros(eeg_sample.shape[0],padding_size)\n",
    "    padded_zero[...,0:sample_length] = eeg_sample\n",
    "    padded_zero = padded_zero.view(-1,padded_zero.shape[0],context_length)\n",
    "    # class labels\n",
    "    target = torch.zeros(padded_zero.shape[0],padded_zero.shape[1])\n",
    " \n",
    "    for idx in range(target.shape[0]):\n",
    "        channel_labels_tensor = torch.zeros(target.shape[1])\n",
    "        channel_labels = []\n",
    "\n",
    "        for i,labels in enumerate(channel_annot.values()):\n",
    "            for label in labels:\n",
    "                start_time,stop_time,c = label\n",
    "\n",
    "                sample_start_time = idx * window_size\n",
    "                sample_stop_time = (idx + 1) * window_size\n",
    "                if sample_start_time >= start_time and sample_stop_time <= stop_time:\n",
    "                    channel_labels.append(0 if c ==\"bckg\" else 1)\n",
    "            \n",
    "        channel_labels_tensor[0:len(channel_labels)] = torch.tensor(channel_labels,dtype=torch.float32)\n",
    "\n",
    "        target[idx,...] =channel_labels_tensor\n",
    "        \n",
    "    #target = target.unsqueeze(-1)\n",
    "    return padded_zero,target"
   ]
  },
  {
   "cell_type": "code",
   "execution_count": 7,
   "metadata": {},
   "outputs": [],
   "source": [
    "class DataLoader:\n",
    "    def __init__(self,annotation:dict,new_s_freq:int = 256,window_size:int=20) -> None:\n",
    "        self.idx = 0\n",
    "        self.new_s_freq = new_s_freq\n",
    "        self.window_size = window_size\n",
    "        self.annotation = annotation\n",
    "\n",
    "        default_channel_nums = 22\n",
    "        sample_freq = annotation[\"s_freq\"]  # sampleing freqeuncy\n",
    "        montage = annotation[\"montage\"]\n",
    "         # resample EEG to a fixed sampling frequency.\n",
    "        resampler = torchaudio.transforms.Resample(sample_freq,new_s_freq)\n",
    "\n",
    "        with np.load(annotation[\"npz_filepath\"]) as npz_file:\n",
    "            raw_eeg = npz_file[\"arr_0\"]\n",
    "\n",
    "        raw_eeg = torch.from_numpy(raw_eeg).to(torch.float32)\n",
    "        # resample\n",
    "        raw_eeg_resample = resampler(raw_eeg)\n",
    "\n",
    "        if montage not in [\"01_tcp_ar\",\"02_tcp_le\"]:\n",
    "            zero_eeg = torch.zeros(default_channel_nums,raw_eeg_resample.shape[-1])\n",
    "            zero_eeg[0:raw_eeg_resample.shape[0],...] = raw_eeg_resample\n",
    "\n",
    "            raw_eeg_resample = zero_eeg\n",
    "\n",
    "        self.x,self.y =  self.create_window(raw_eeg_resample,self.annotation[\"channel_annot\"])\n",
    "\n",
    "    \n",
    "    def create_window(self,eeg_sample:np.ndarray,channel_annot:dict):\n",
    "        \"\"\" Resample and generate class label tensor for an eeg reading.\n",
    "        Args:\n",
    "        eeg_sample (nd.array): Raw EEG data\n",
    "        channel_annot (dict): corresponding annoations\n",
    "        s_fre (int): sampling frequency.\n",
    "        window_size: window_size in seconds.\n",
    "        \"\"\"\n",
    "        context_length = self.window_size * self.new_s_freq # change window_size(seconds) to sequence_lenth\n",
    "        sample_length = eeg_sample.shape[-1] # total length of the raw eeg signal\n",
    "\n",
    "        # pad the `eeg_sample` to the nearest integer factor of `window_size`\n",
    "        padding_size = int(\n",
    "        context_length * torch.ceil(torch.tensor(sample_length / context_length)).item()\n",
    "    )\n",
    "        padded_zero = torch.zeros(eeg_sample.shape[0],padding_size)\n",
    "        padded_zero[...,0:sample_length] = eeg_sample\n",
    "        padded_zero = padded_zero.view(-1,padded_zero.shape[0],context_length)\n",
    "        # class labels\n",
    "        target = torch.zeros(padded_zero.shape[0],padded_zero.shape[1])\n",
    "    \n",
    "        for idx in range(target.shape[0]):\n",
    "            channel_labels_tensor = torch.zeros(target.shape[1])\n",
    "            channel_labels = []\n",
    "\n",
    "            for i,labels in enumerate(channel_annot.values()):\n",
    "                for label in labels:\n",
    "                    start_time,stop_time,c = label\n",
    "\n",
    "                    sample_start_time = idx * self.window_size\n",
    "                    sample_stop_time = (idx + 1) * self.window_size\n",
    "                    if sample_start_time >= start_time and sample_stop_time <= stop_time:\n",
    "                        channel_labels.append(0 if c ==\"bckg\" else 1)\n",
    "                \n",
    "            channel_labels_tensor[0:len(channel_labels)] = torch.tensor(channel_labels,dtype=torch.float32)\n",
    "\n",
    "            target[idx,...] =channel_labels_tensor\n",
    "        #target = target.unsqueeze(-1)\n",
    "        return padded_zero,target\n",
    "\n",
    "    def __len__(self):\n",
    "        return len(self.x)\n",
    "    \n",
    "    def __iter__(self):\n",
    "        return self\n",
    "    \n",
    "    def __next__(self):\n",
    "        if self.idx > len(self.x) - 1:\n",
    "            raise StopIteration\n",
    "        \n",
    "        x = self.x[self.idx]\n",
    "\n",
    "        x = torch.fft.fft(x,norm=\"ortho\",dim=-1).real\n",
    "        y = self.y[self.idx]\n",
    "\n",
    "        if torch.all(y):\n",
    "            idx = random.randint(0,len(y)-1)\n",
    "            x[idx,...] = torch.zeros(x.shape[-1])\n",
    "            y[idx] = 0.\n",
    "        self.idx +=1\n",
    "        \n",
    "        return x,y"
   ]
  },
  {
   "cell_type": "code",
   "execution_count": 6,
   "metadata": {},
   "outputs": [],
   "source": [
    "device = 'cuda' if torch.cuda.is_available() else 'cpu'\n",
    "epochs = 5\n",
    "batch_size = 8\n",
    "lr = 1e-3"
   ]
  },
  {
   "cell_type": "code",
   "execution_count": 7,
   "metadata": {},
   "outputs": [
    {
     "data": {
      "text/plain": [
       "' \\n# train a simple model\\noptimizer = optim.Adam(model.parameters(),lr=lr)\\n\\nfor epoch in range(epochs):\\n  model.train()\\n\\n  losses = []\\n  accuracy = []\\n  loader = tqdm(\\n      data_loader(training_data,new_s_freq = 256,window_size=20,batch_size=batch_size)\\n  )\\n\\n  for x, y in loader:\\n    x = x.to(device)\\n    y = y.to(device)\\n\\n    logits,loss = model(x,y)\\n\\n    optimizer.zero_grad(set_to_none=True)\\n    loss.backward()\\n    optimizer.step()\\n\\n    losses.append(loss.detach().item())\\n\\n    preds = torch.sigmoid(logits)\\n    preds = (preds > 0.5).float().detach().tolist()\\n    \\n    accuracy.append(accuracy_score(y.tolist(),preds))\\n    \\n    loader.set_description(f\"Epoch {epoch + 1}/{epochs}\") \\n    loader.set_postfix(loss=np.mean(losses),acc=np.mean(accuracy)) '"
      ]
     },
     "execution_count": 7,
     "metadata": {},
     "output_type": "execute_result"
    }
   ],
   "source": [
    "from tqdm import tqdm\n",
    "import torch.optim as optim\n",
    "from sklearn.metrics import accuracy_score\n",
    "\"\"\" \n",
    "# train a simple model\n",
    "optimizer = optim.Adam(model.parameters(),lr=lr)\n",
    "\n",
    "for epoch in range(epochs):\n",
    "  model.train()\n",
    "\n",
    "  losses = []\n",
    "  accuracy = []\n",
    "  loader = tqdm(\n",
    "      data_loader(training_data,new_s_freq = 256,window_size=20,batch_size=batch_size)\n",
    "  )\n",
    "\n",
    "  for x, y in loader:\n",
    "    x = x.to(device)\n",
    "    y = y.to(device)\n",
    "\n",
    "    logits,loss = model(x,y)\n",
    "\n",
    "    optimizer.zero_grad(set_to_none=True)\n",
    "    loss.backward()\n",
    "    optimizer.step()\n",
    "\n",
    "    losses.append(loss.detach().item())\n",
    "\n",
    "    preds = torch.sigmoid(logits)\n",
    "    preds = (preds > 0.5).float().detach().tolist()\n",
    "    \n",
    "    accuracy.append(accuracy_score(y.tolist(),preds))\n",
    "    \n",
    "    loader.set_description(f\"Epoch {epoch + 1}/{epochs}\") \n",
    "    loader.set_postfix(loss=np.mean(losses),acc=np.mean(accuracy)) \"\"\""
   ]
  },
  {
   "cell_type": "markdown",
   "metadata": {},
   "source": [
    "## XGBoost"
   ]
  },
  {
   "cell_type": "code",
   "execution_count": 9,
   "metadata": {},
   "outputs": [],
   "source": [
    "# Set the tree_method parameter to gpu_hist\n",
    "params = {'tree_method': 'gpu_hist'}\n",
    "# Set the gpu_id parameter to the ID of your GPU\n",
    "params['gpu_id'] = 0\n",
    "\n",
    "xgb_clf = xgb.XGBClassifier(tree_method='gpu_hist',\n",
    "                            learning_rate=1e-3,\n",
    "                            nthread=4,\n",
    "                            max_depth=10,\n",
    "                            eval_metric='logloss',\n",
    "                            objective=\"binary:logistic\")"
   ]
  },
  {
   "cell_type": "code",
   "execution_count": null,
   "metadata": {},
   "outputs": [],
   "source": [
    "from sklearn.preprocessing import LabelEncoder\n",
    "import sys\n",
    "sys.path.append(\"..\")\n",
    "\n",
    "from utils.custom_loader import XGBLoader\n",
    "\n",
    "le = LabelEncoder()\n",
    "labels = [0.,1.]\n",
    "le.fit_transform(labels)"
   ]
  },
  {
   "cell_type": "code",
   "execution_count": 37,
   "metadata": {},
   "outputs": [],
   "source": [
    "test_loader = XGBLoader(testing_data[1])"
   ]
  },
  {
   "cell_type": "code",
   "execution_count": 38,
   "metadata": {},
   "outputs": [],
   "source": [
    "x_t = None\n",
    "y_t = None\n",
    "for x,y in test_loader:\n",
    "  if y.sum() != 0:\n",
    "    x_t,y_t = x,y\n",
    "    break\n",
    "\n",
    "x_t = x_t.numpy()#.reshape(x.shape[0],-1)\n",
    "y_t = y_t.numpy()#.reshape(x.shape[0],-1)\n",
    "\n",
    "y_t = le.transform(y_t)"
   ]
  },
  {
   "cell_type": "code",
   "execution_count": 39,
   "metadata": {},
   "outputs": [
    {
     "data": {
      "text/plain": [
       "array([0, 0, 0, 0, 1, 1, 1, 1, 1, 1, 1, 1, 1, 1, 1, 1, 1, 0, 0, 0, 0, 0])"
      ]
     },
     "execution_count": 39,
     "metadata": {},
     "output_type": "execute_result"
    }
   ],
   "source": [
    "y_t"
   ]
  },
  {
   "cell_type": "markdown",
   "metadata": {},
   "source": [
    "## Evaluate trained XGBoost."
   ]
  },
  {
   "cell_type": "markdown",
   "metadata": {},
   "source": [
    "1. `Benchmark`: No preprocessing of signal"
   ]
  },
  {
   "cell_type": "code",
   "execution_count": 44,
   "metadata": {},
   "outputs": [],
   "source": [
    "benchmark_model_file = \"../utils/xgb_model.json\"\n",
    "os.path.exists(benchmark_model_file)\n",
    "\n",
    "model = xgb.Booster()\n",
    "\n",
    "model.set_param({\"tree_method\":\"gpu_hist\",\"depth\":10,\"nthread\":16})\n",
    "model.load_model(benchmark_model_file)"
   ]
  },
  {
   "cell_type": "code",
   "execution_count": 45,
   "metadata": {},
   "outputs": [
    {
     "data": {
      "text/plain": [
       "(22, 5120)"
      ]
     },
     "execution_count": 45,
     "metadata": {},
     "output_type": "execute_result"
    }
   ],
   "source": [
    "x_t.shape"
   ]
  },
  {
   "cell_type": "code",
   "execution_count": 49,
   "metadata": {},
   "outputs": [
    {
     "data": {
      "text/plain": [
       "array([0.4971228 , 0.48866928, 0.52708787, 0.5058152 , 0.5012345 ,\n",
       "       0.49603844, 0.48642415, 0.48960558, 0.48289624, 0.48838705,\n",
       "       0.4964315 , 0.49772727, 0.5038789 , 0.49455923, 0.5288117 ,\n",
       "       0.51224506, 0.5104085 , 0.48718044, 0.48567632, 0.4839459 ,\n",
       "       0.4865774 , 0.4858613 ], dtype=float32)"
      ]
     },
     "execution_count": 49,
     "metadata": {},
     "output_type": "execute_result"
    }
   ],
   "source": [
    "pred = model.predict(xgb.DMatrix(x_t))\n",
    "pred"
   ]
  },
  {
   "cell_type": "code",
   "execution_count": 47,
   "metadata": {},
   "outputs": [],
   "source": [
    "pred = np.uint8(pred > 0.5).tolist()"
   ]
  },
  {
   "cell_type": "code",
   "execution_count": 48,
   "metadata": {},
   "outputs": [
    {
     "name": "stdout",
     "output_type": "stream",
     "text": [
      "[0, 0, 1, 1, 1, 0, 0, 0, 0, 0, 0, 0, 1, 0, 1, 1, 1, 0, 0, 0, 0, 0]\n",
      "[0, 0, 0, 0, 1, 1, 1, 1, 1, 1, 1, 1, 1, 1, 1, 1, 1, 0, 0, 0, 0, 0]\n"
     ]
    }
   ],
   "source": [
    "print(pred)\n",
    "print(y_t.tolist())"
   ]
  },
  {
   "cell_type": "code",
   "execution_count": 24,
   "metadata": {},
   "outputs": [
    {
     "name": "stderr",
     "output_type": "stream",
     "text": [
      "Evaluating:   0%|          | 0/723 [00:00<?, ?it/s]"
     ]
    },
    {
     "name": "stderr",
     "output_type": "stream",
     "text": [
      "Evaluating: 100%|██████████| 723/723 [02:44<00:00,  4.38it/s]\n"
     ]
    }
   ],
   "source": [
    "x_train = []\n",
    "y_train = []\n",
    "\n",
    "bar = tqdm(training_data, total=len(training_data), desc=\"Evaluating\")\n",
    "for i, eeg_annot in enumerate(bar):\n",
    "        dg = XGBLoader(eeg_annot)\n",
    "        for x,y in dg:\n",
    "                if y.sum() == 0:\n",
    "                        continue\n",
    "                x_train.append(x)\n",
    "                y_train.append(y)\n",
    "\n"
   ]
  },
  {
   "cell_type": "code",
   "execution_count": 25,
   "metadata": {},
   "outputs": [],
   "source": [
    "x_train_np = np.stack(x_train)\n",
    "y_train_np = np.stack(y_train)"
   ]
  },
  {
   "cell_type": "code",
   "execution_count": 26,
   "metadata": {},
   "outputs": [],
   "source": [
    "y_train_np = y_train_np.reshape(-1)"
   ]
  },
  {
   "cell_type": "code",
   "execution_count": 27,
   "metadata": {},
   "outputs": [
    {
     "data": {
      "text/plain": [
       "(139436,)"
      ]
     },
     "execution_count": 27,
     "metadata": {},
     "output_type": "execute_result"
    }
   ],
   "source": [
    "y_train_np.shape"
   ]
  },
  {
   "cell_type": "code",
   "execution_count": 28,
   "metadata": {},
   "outputs": [],
   "source": [
    "x_train_np = x_train_np.reshape(-1,x_train_np.shape[-1])"
   ]
  },
  {
   "cell_type": "code",
   "execution_count": 29,
   "metadata": {},
   "outputs": [
    {
     "data": {
      "text/plain": [
       "(139436, 5120)"
      ]
     },
     "execution_count": 29,
     "metadata": {},
     "output_type": "execute_result"
    }
   ],
   "source": [
    "x_train_np.shape"
   ]
  },
  {
   "cell_type": "code",
   "execution_count": 30,
   "metadata": {},
   "outputs": [
    {
     "ename": "KeyboardInterrupt",
     "evalue": "",
     "output_type": "error",
     "traceback": [
      "\u001b[0;31m---------------------------------------------------------------------------\u001b[0m",
      "\u001b[0;31mKeyboardInterrupt\u001b[0m                         Traceback (most recent call last)",
      "Cell \u001b[0;32mIn[30], line 1\u001b[0m\n\u001b[0;32m----> 1\u001b[0m xgb_clf\u001b[39m.\u001b[39mfit(x_train_np,y_train_np,verbose\u001b[39m=\u001b[39m\u001b[39mTrue\u001b[39;00m)\n",
      "File \u001b[0;32m~/miniconda3/envs/eeg/lib/python3.11/site-packages/xgboost/core.py:620\u001b[0m, in \u001b[0;36mrequire_keyword_args.<locals>.throw_if.<locals>.inner_f\u001b[0;34m(*args, **kwargs)\u001b[0m\n\u001b[1;32m    618\u001b[0m \u001b[39mfor\u001b[39;00m k, arg \u001b[39min\u001b[39;00m \u001b[39mzip\u001b[39m(sig\u001b[39m.\u001b[39mparameters, args):\n\u001b[1;32m    619\u001b[0m     kwargs[k] \u001b[39m=\u001b[39m arg\n\u001b[0;32m--> 620\u001b[0m \u001b[39mreturn\u001b[39;00m func(\u001b[39m*\u001b[39m\u001b[39m*\u001b[39mkwargs)\n",
      "File \u001b[0;32m~/miniconda3/envs/eeg/lib/python3.11/site-packages/xgboost/sklearn.py:1490\u001b[0m, in \u001b[0;36mXGBClassifier.fit\u001b[0;34m(self, X, y, sample_weight, base_margin, eval_set, eval_metric, early_stopping_rounds, verbose, xgb_model, sample_weight_eval_set, base_margin_eval_set, feature_weights, callbacks)\u001b[0m\n\u001b[1;32m   1462\u001b[0m (\n\u001b[1;32m   1463\u001b[0m     model,\n\u001b[1;32m   1464\u001b[0m     metric,\n\u001b[0;32m   (...)\u001b[0m\n\u001b[1;32m   1469\u001b[0m     xgb_model, eval_metric, params, early_stopping_rounds, callbacks\n\u001b[1;32m   1470\u001b[0m )\n\u001b[1;32m   1471\u001b[0m train_dmatrix, evals \u001b[39m=\u001b[39m _wrap_evaluation_matrices(\n\u001b[1;32m   1472\u001b[0m     missing\u001b[39m=\u001b[39m\u001b[39mself\u001b[39m\u001b[39m.\u001b[39mmissing,\n\u001b[1;32m   1473\u001b[0m     X\u001b[39m=\u001b[39mX,\n\u001b[0;32m   (...)\u001b[0m\n\u001b[1;32m   1487\u001b[0m     feature_types\u001b[39m=\u001b[39m\u001b[39mself\u001b[39m\u001b[39m.\u001b[39mfeature_types,\n\u001b[1;32m   1488\u001b[0m )\n\u001b[0;32m-> 1490\u001b[0m \u001b[39mself\u001b[39m\u001b[39m.\u001b[39m_Booster \u001b[39m=\u001b[39m train(\n\u001b[1;32m   1491\u001b[0m     params,\n\u001b[1;32m   1492\u001b[0m     train_dmatrix,\n\u001b[1;32m   1493\u001b[0m     \u001b[39mself\u001b[39m\u001b[39m.\u001b[39mget_num_boosting_rounds(),\n\u001b[1;32m   1494\u001b[0m     evals\u001b[39m=\u001b[39mevals,\n\u001b[1;32m   1495\u001b[0m     early_stopping_rounds\u001b[39m=\u001b[39mearly_stopping_rounds,\n\u001b[1;32m   1496\u001b[0m     evals_result\u001b[39m=\u001b[39mevals_result,\n\u001b[1;32m   1497\u001b[0m     obj\u001b[39m=\u001b[39mobj,\n\u001b[1;32m   1498\u001b[0m     custom_metric\u001b[39m=\u001b[39mmetric,\n\u001b[1;32m   1499\u001b[0m     verbose_eval\u001b[39m=\u001b[39mverbose,\n\u001b[1;32m   1500\u001b[0m     xgb_model\u001b[39m=\u001b[39mmodel,\n\u001b[1;32m   1501\u001b[0m     callbacks\u001b[39m=\u001b[39mcallbacks,\n\u001b[1;32m   1502\u001b[0m )\n\u001b[1;32m   1504\u001b[0m \u001b[39mif\u001b[39;00m \u001b[39mnot\u001b[39;00m \u001b[39mcallable\u001b[39m(\u001b[39mself\u001b[39m\u001b[39m.\u001b[39mobjective):\n\u001b[1;32m   1505\u001b[0m     \u001b[39mself\u001b[39m\u001b[39m.\u001b[39mobjective \u001b[39m=\u001b[39m params[\u001b[39m\"\u001b[39m\u001b[39mobjective\u001b[39m\u001b[39m\"\u001b[39m]\n",
      "File \u001b[0;32m~/miniconda3/envs/eeg/lib/python3.11/site-packages/xgboost/core.py:620\u001b[0m, in \u001b[0;36mrequire_keyword_args.<locals>.throw_if.<locals>.inner_f\u001b[0;34m(*args, **kwargs)\u001b[0m\n\u001b[1;32m    618\u001b[0m \u001b[39mfor\u001b[39;00m k, arg \u001b[39min\u001b[39;00m \u001b[39mzip\u001b[39m(sig\u001b[39m.\u001b[39mparameters, args):\n\u001b[1;32m    619\u001b[0m     kwargs[k] \u001b[39m=\u001b[39m arg\n\u001b[0;32m--> 620\u001b[0m \u001b[39mreturn\u001b[39;00m func(\u001b[39m*\u001b[39m\u001b[39m*\u001b[39mkwargs)\n",
      "File \u001b[0;32m~/miniconda3/envs/eeg/lib/python3.11/site-packages/xgboost/training.py:185\u001b[0m, in \u001b[0;36mtrain\u001b[0;34m(params, dtrain, num_boost_round, evals, obj, feval, maximize, early_stopping_rounds, evals_result, verbose_eval, xgb_model, callbacks, custom_metric)\u001b[0m\n\u001b[1;32m    183\u001b[0m \u001b[39mif\u001b[39;00m cb_container\u001b[39m.\u001b[39mbefore_iteration(bst, i, dtrain, evals):\n\u001b[1;32m    184\u001b[0m     \u001b[39mbreak\u001b[39;00m\n\u001b[0;32m--> 185\u001b[0m bst\u001b[39m.\u001b[39mupdate(dtrain, i, obj)\n\u001b[1;32m    186\u001b[0m \u001b[39mif\u001b[39;00m cb_container\u001b[39m.\u001b[39mafter_iteration(bst, i, dtrain, evals):\n\u001b[1;32m    187\u001b[0m     \u001b[39mbreak\u001b[39;00m\n",
      "File \u001b[0;32m~/miniconda3/envs/eeg/lib/python3.11/site-packages/xgboost/core.py:1918\u001b[0m, in \u001b[0;36mBooster.update\u001b[0;34m(self, dtrain, iteration, fobj)\u001b[0m\n\u001b[1;32m   1915\u001b[0m \u001b[39mself\u001b[39m\u001b[39m.\u001b[39m_validate_dmatrix_features(dtrain)\n\u001b[1;32m   1917\u001b[0m \u001b[39mif\u001b[39;00m fobj \u001b[39mis\u001b[39;00m \u001b[39mNone\u001b[39;00m:\n\u001b[0;32m-> 1918\u001b[0m     _check_call(_LIB\u001b[39m.\u001b[39mXGBoosterUpdateOneIter(\u001b[39mself\u001b[39m\u001b[39m.\u001b[39mhandle,\n\u001b[1;32m   1919\u001b[0m                                             ctypes\u001b[39m.\u001b[39mc_int(iteration),\n\u001b[1;32m   1920\u001b[0m                                             dtrain\u001b[39m.\u001b[39mhandle))\n\u001b[1;32m   1921\u001b[0m \u001b[39melse\u001b[39;00m:\n\u001b[1;32m   1922\u001b[0m     pred \u001b[39m=\u001b[39m \u001b[39mself\u001b[39m\u001b[39m.\u001b[39mpredict(dtrain, output_margin\u001b[39m=\u001b[39m\u001b[39mTrue\u001b[39;00m, training\u001b[39m=\u001b[39m\u001b[39mTrue\u001b[39;00m)\n",
      "\u001b[0;31mKeyboardInterrupt\u001b[0m: "
     ]
    }
   ],
   "source": [
    "xgb_clf.fit(x_train_np,y_train_np,verbose=True)"
   ]
  },
  {
   "cell_type": "code",
   "execution_count": null,
   "metadata": {},
   "outputs": [],
   "source": []
  }
 ],
 "metadata": {
  "kernelspec": {
   "display_name": "eeg",
   "language": "python",
   "name": "python3"
  },
  "language_info": {
   "codemirror_mode": {
    "name": "ipython",
    "version": 3
   },
   "file_extension": ".py",
   "mimetype": "text/x-python",
   "name": "python",
   "nbconvert_exporter": "python",
   "pygments_lexer": "ipython3",
   "version": "3.11.4"
  },
  "orig_nbformat": 4
 },
 "nbformat": 4,
 "nbformat_minor": 2
}
