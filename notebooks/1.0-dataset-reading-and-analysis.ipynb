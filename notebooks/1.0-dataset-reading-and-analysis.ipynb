{
 "cells": [
  {
   "cell_type": "markdown",
   "metadata": {},
   "source": [
    "# `EEG` analysis of the `TUH-EEG` dataset\n",
    "Short database description provided here for quick [reference](../Dataset_README.md)"
   ]
  },
  {
   "cell_type": "code",
   "execution_count": 1,
   "metadata": {},
   "outputs": [],
   "source": [
    "import os\n",
    "import glob\n",
    "import numpy as np\n",
    "import pandas as pd\n",
    "import mne\n",
    "import matplotlib.pyplot as plt\n",
    "import seaborn as sns"
   ]
  },
  {
   "cell_type": "code",
   "execution_count": 2,
   "metadata": {},
   "outputs": [],
   "source": [
    "TUH_EEG_DATASET_PATH = \"/home/rdadmin/Documents/Datasets/the-tuh-eeg-seizure-corpus-tusz/edf/\""
   ]
  },
  {
   "cell_type": "code",
   "execution_count": 3,
   "metadata": {},
   "outputs": [
    {
     "data": {
      "text/plain": [
       "['train', 'dev']"
      ]
     },
     "execution_count": 3,
     "metadata": {},
     "output_type": "execute_result"
    }
   ],
   "source": [
    "os.listdir(TUH_EEG_DATASET_PATH)"
   ]
  },
  {
   "cell_type": "markdown",
   "metadata": {},
   "source": [
    "Get the `.edf`,`.tse`,`.lbl`,`.tse_bi`,`.lbl_bi` files of all the training samples."
   ]
  },
  {
   "cell_type": "code",
   "execution_count": 4,
   "metadata": {},
   "outputs": [],
   "source": [
    "train_edf = sorted(glob.glob(TUH_EEG_DATASET_PATH + \"train/*/*/*/*/*.edf\"))\n",
    "\n",
    "train_tse = sorted(glob.glob(TUH_EEG_DATASET_PATH + \"train/*/*/*/*/*.tse\"))\n",
    "train_tse_bi = sorted(glob.glob(TUH_EEG_DATASET_PATH + \"train/*/*/*/*/*.tse_bi\"))\n",
    "\n",
    "train_lbl = sorted(glob.glob(TUH_EEG_DATASET_PATH + \"train/*/*/*/*/*.lbl\"))\n",
    "train_lbl_bi = sorted(glob.glob(TUH_EEG_DATASET_PATH + \"train/*/*/*/*/*.lbl_bi\"))\n",
    "\n",
    "\n",
    "dev_edf = sorted(glob.glob(TUH_EEG_DATASET_PATH + \"dev/*/*/*/*/*.edf\"))\n",
    "\n",
    "dev_tse = sorted(glob.glob(TUH_EEG_DATASET_PATH + \"dev/*/*/*/*/*.tse\"))\n",
    "dev_tse_bi = sorted(glob.glob(TUH_EEG_DATASET_PATH + \"dev/*/*/*/*/*.tse_bi\"))\n",
    "\n",
    "dev_lbl = sorted(glob.glob(TUH_EEG_DATASET_PATH + \"dev/*/*/*/*/*.lbl\"))\n",
    "dev_lbl_bi = sorted(glob.glob(TUH_EEG_DATASET_PATH + \"dev/*/*/*/*/*.lbl_bi\"))"
   ]
  },
  {
   "cell_type": "code",
   "execution_count": 5,
   "metadata": {},
   "outputs": [
    {
     "data": {
      "text/plain": [
       "(4599, 4599, 4599, 4599, 4599)"
      ]
     },
     "execution_count": 5,
     "metadata": {},
     "output_type": "execute_result"
    }
   ],
   "source": [
    "len(train_edf),len(train_tse),len(train_tse_bi),len(train_lbl),len(train_lbl_bi)"
   ]
  },
  {
   "cell_type": "code",
   "execution_count": 6,
   "metadata": {},
   "outputs": [
    {
     "data": {
      "text/plain": [
       "(1013, 1013, 1013, 1013, 1013)"
      ]
     },
     "execution_count": 6,
     "metadata": {},
     "output_type": "execute_result"
    }
   ],
   "source": [
    "len(dev_edf),len(dev_tse),len(dev_tse_bi),len(dev_lbl),len(dev_lbl_bi)"
   ]
  },
  {
   "cell_type": "markdown",
   "metadata": {},
   "source": [
    "Check if a random index yields the same patient and session id for all files"
   ]
  },
  {
   "cell_type": "code",
   "execution_count": 7,
   "metadata": {},
   "outputs": [
    {
     "name": "stdout",
     "output_type": "stream",
     "text": [
      "00011815_s006_t004\n",
      "00011815_s006_t004\n",
      "00011815_s006_t004\n",
      "00011815_s006_t004\n",
      "00011815_s006_t004\n"
     ]
    }
   ],
   "source": [
    "id = np.random.randint(0,len(train_edf))\n",
    "base_names = []\n",
    "for file in [train_edf[id],train_tse[id],train_tse_bi[id],train_lbl[id],train_lbl_bi[id]]:\n",
    "    base_name = os.path.basename(file)\n",
    "    base_name = base_name.split(\".\")[0]\n",
    "    print(base_name)\n",
    "    base_names.append(base_name)"
   ]
  },
  {
   "cell_type": "markdown",
   "metadata": {},
   "source": [
    "Create a dataframe "
   ]
  },
  {
   "cell_type": "code",
   "execution_count": 8,
   "metadata": {},
   "outputs": [],
   "source": [
    "import re\n",
    "# use regular expression to fint the montage for each file\n",
    "reg = r'[0-9]{2}_tcp_\\w+'\n",
    "train_montage = [re.findall(reg,file_name)[0] for file_name in train_edf]\n",
    "dev_montage = [re.findall(reg,file_name)[0] for file_name in dev_edf]\n",
    "\n",
    "train_base_names = [os.path.basename(edf_file_path).split('.')[0] for edf_file_path in train_edf]\n",
    "dev_base_names = [os.path.basename(edf_file_path).split('.')[0] for edf_file_path in dev_edf]\n",
    "\n",
    "train_df = pd.DataFrame(\n",
    "    {  \n",
    "        \"edf\":train_edf,\n",
    "        \"base_name\":train_base_names,\n",
    "        \"tse\":train_tse,\n",
    "        \"tse_bin\":train_tse_bi,\n",
    "        \"lbl\":train_lbl,\n",
    "        \"lbl_bin\":train_lbl_bi,\n",
    "        \"montage\":train_montage\n",
    "    }\n",
    ")\n",
    "\n",
    "dev_df = pd.DataFrame(\n",
    "    {\n",
    "        \"edf\":dev_edf,\n",
    "        \"base_name\":dev_base_names,\n",
    "        \"tse\":dev_tse,\n",
    "        \"tse_bin\":dev_tse_bi,\n",
    "        \"lbl\":dev_lbl,\n",
    "        \"lbl_bin\":dev_lbl_bi,\n",
    "        \"montage\":dev_montage\n",
    "    }\n",
    ")"
   ]
  },
  {
   "cell_type": "code",
   "execution_count": 9,
   "metadata": {},
   "outputs": [
    {
     "data": {
      "text/html": [
       "<div>\n",
       "<style scoped>\n",
       "    .dataframe tbody tr th:only-of-type {\n",
       "        vertical-align: middle;\n",
       "    }\n",
       "\n",
       "    .dataframe tbody tr th {\n",
       "        vertical-align: top;\n",
       "    }\n",
       "\n",
       "    .dataframe thead th {\n",
       "        text-align: right;\n",
       "    }\n",
       "</style>\n",
       "<table border=\"1\" class=\"dataframe\">\n",
       "  <thead>\n",
       "    <tr style=\"text-align: right;\">\n",
       "      <th></th>\n",
       "      <th>edf</th>\n",
       "      <th>base_name</th>\n",
       "      <th>tse</th>\n",
       "      <th>tse_bin</th>\n",
       "      <th>lbl</th>\n",
       "      <th>lbl_bin</th>\n",
       "      <th>montage</th>\n",
       "    </tr>\n",
       "  </thead>\n",
       "  <tbody>\n",
       "    <tr>\n",
       "      <th>0</th>\n",
       "      <td>/home/rdadmin/Documents/Datasets/the-tuh-eeg-s...</td>\n",
       "      <td>00000077_s003_t000</td>\n",
       "      <td>/home/rdadmin/Documents/Datasets/the-tuh-eeg-s...</td>\n",
       "      <td>/home/rdadmin/Documents/Datasets/the-tuh-eeg-s...</td>\n",
       "      <td>/home/rdadmin/Documents/Datasets/the-tuh-eeg-s...</td>\n",
       "      <td>/home/rdadmin/Documents/Datasets/the-tuh-eeg-s...</td>\n",
       "      <td>01_tcp_ar</td>\n",
       "    </tr>\n",
       "    <tr>\n",
       "      <th>1</th>\n",
       "      <td>/home/rdadmin/Documents/Datasets/the-tuh-eeg-s...</td>\n",
       "      <td>00000254_s005_t000</td>\n",
       "      <td>/home/rdadmin/Documents/Datasets/the-tuh-eeg-s...</td>\n",
       "      <td>/home/rdadmin/Documents/Datasets/the-tuh-eeg-s...</td>\n",
       "      <td>/home/rdadmin/Documents/Datasets/the-tuh-eeg-s...</td>\n",
       "      <td>/home/rdadmin/Documents/Datasets/the-tuh-eeg-s...</td>\n",
       "      <td>01_tcp_ar</td>\n",
       "    </tr>\n",
       "    <tr>\n",
       "      <th>2</th>\n",
       "      <td>/home/rdadmin/Documents/Datasets/the-tuh-eeg-s...</td>\n",
       "      <td>00000254_s006_t001</td>\n",
       "      <td>/home/rdadmin/Documents/Datasets/the-tuh-eeg-s...</td>\n",
       "      <td>/home/rdadmin/Documents/Datasets/the-tuh-eeg-s...</td>\n",
       "      <td>/home/rdadmin/Documents/Datasets/the-tuh-eeg-s...</td>\n",
       "      <td>/home/rdadmin/Documents/Datasets/the-tuh-eeg-s...</td>\n",
       "      <td>01_tcp_ar</td>\n",
       "    </tr>\n",
       "    <tr>\n",
       "      <th>3</th>\n",
       "      <td>/home/rdadmin/Documents/Datasets/the-tuh-eeg-s...</td>\n",
       "      <td>00000254_s007_t000</td>\n",
       "      <td>/home/rdadmin/Documents/Datasets/the-tuh-eeg-s...</td>\n",
       "      <td>/home/rdadmin/Documents/Datasets/the-tuh-eeg-s...</td>\n",
       "      <td>/home/rdadmin/Documents/Datasets/the-tuh-eeg-s...</td>\n",
       "      <td>/home/rdadmin/Documents/Datasets/the-tuh-eeg-s...</td>\n",
       "      <td>01_tcp_ar</td>\n",
       "    </tr>\n",
       "    <tr>\n",
       "      <th>4</th>\n",
       "      <td>/home/rdadmin/Documents/Datasets/the-tuh-eeg-s...</td>\n",
       "      <td>00000272_s007_t000</td>\n",
       "      <td>/home/rdadmin/Documents/Datasets/the-tuh-eeg-s...</td>\n",
       "      <td>/home/rdadmin/Documents/Datasets/the-tuh-eeg-s...</td>\n",
       "      <td>/home/rdadmin/Documents/Datasets/the-tuh-eeg-s...</td>\n",
       "      <td>/home/rdadmin/Documents/Datasets/the-tuh-eeg-s...</td>\n",
       "      <td>01_tcp_ar</td>\n",
       "    </tr>\n",
       "    <tr>\n",
       "      <th>...</th>\n",
       "      <td>...</td>\n",
       "      <td>...</td>\n",
       "      <td>...</td>\n",
       "      <td>...</td>\n",
       "      <td>...</td>\n",
       "      <td>...</td>\n",
       "      <td>...</td>\n",
       "    </tr>\n",
       "    <tr>\n",
       "      <th>4594</th>\n",
       "      <td>/home/rdadmin/Documents/Datasets/the-tuh-eeg-s...</td>\n",
       "      <td>00013145_s003_t001</td>\n",
       "      <td>/home/rdadmin/Documents/Datasets/the-tuh-eeg-s...</td>\n",
       "      <td>/home/rdadmin/Documents/Datasets/the-tuh-eeg-s...</td>\n",
       "      <td>/home/rdadmin/Documents/Datasets/the-tuh-eeg-s...</td>\n",
       "      <td>/home/rdadmin/Documents/Datasets/the-tuh-eeg-s...</td>\n",
       "      <td>03_tcp_ar_a</td>\n",
       "    </tr>\n",
       "    <tr>\n",
       "      <th>4595</th>\n",
       "      <td>/home/rdadmin/Documents/Datasets/the-tuh-eeg-s...</td>\n",
       "      <td>00013145_s003_t002</td>\n",
       "      <td>/home/rdadmin/Documents/Datasets/the-tuh-eeg-s...</td>\n",
       "      <td>/home/rdadmin/Documents/Datasets/the-tuh-eeg-s...</td>\n",
       "      <td>/home/rdadmin/Documents/Datasets/the-tuh-eeg-s...</td>\n",
       "      <td>/home/rdadmin/Documents/Datasets/the-tuh-eeg-s...</td>\n",
       "      <td>03_tcp_ar_a</td>\n",
       "    </tr>\n",
       "    <tr>\n",
       "      <th>4596</th>\n",
       "      <td>/home/rdadmin/Documents/Datasets/the-tuh-eeg-s...</td>\n",
       "      <td>00013145_s003_t003</td>\n",
       "      <td>/home/rdadmin/Documents/Datasets/the-tuh-eeg-s...</td>\n",
       "      <td>/home/rdadmin/Documents/Datasets/the-tuh-eeg-s...</td>\n",
       "      <td>/home/rdadmin/Documents/Datasets/the-tuh-eeg-s...</td>\n",
       "      <td>/home/rdadmin/Documents/Datasets/the-tuh-eeg-s...</td>\n",
       "      <td>03_tcp_ar_a</td>\n",
       "    </tr>\n",
       "    <tr>\n",
       "      <th>4597</th>\n",
       "      <td>/home/rdadmin/Documents/Datasets/the-tuh-eeg-s...</td>\n",
       "      <td>00013145_s003_t004</td>\n",
       "      <td>/home/rdadmin/Documents/Datasets/the-tuh-eeg-s...</td>\n",
       "      <td>/home/rdadmin/Documents/Datasets/the-tuh-eeg-s...</td>\n",
       "      <td>/home/rdadmin/Documents/Datasets/the-tuh-eeg-s...</td>\n",
       "      <td>/home/rdadmin/Documents/Datasets/the-tuh-eeg-s...</td>\n",
       "      <td>03_tcp_ar_a</td>\n",
       "    </tr>\n",
       "    <tr>\n",
       "      <th>4598</th>\n",
       "      <td>/home/rdadmin/Documents/Datasets/the-tuh-eeg-s...</td>\n",
       "      <td>00013145_s003_t005</td>\n",
       "      <td>/home/rdadmin/Documents/Datasets/the-tuh-eeg-s...</td>\n",
       "      <td>/home/rdadmin/Documents/Datasets/the-tuh-eeg-s...</td>\n",
       "      <td>/home/rdadmin/Documents/Datasets/the-tuh-eeg-s...</td>\n",
       "      <td>/home/rdadmin/Documents/Datasets/the-tuh-eeg-s...</td>\n",
       "      <td>03_tcp_ar_a</td>\n",
       "    </tr>\n",
       "  </tbody>\n",
       "</table>\n",
       "<p>4599 rows × 7 columns</p>\n",
       "</div>"
      ],
      "text/plain": [
       "                                                    edf           base_name  \\\n",
       "0     /home/rdadmin/Documents/Datasets/the-tuh-eeg-s...  00000077_s003_t000   \n",
       "1     /home/rdadmin/Documents/Datasets/the-tuh-eeg-s...  00000254_s005_t000   \n",
       "2     /home/rdadmin/Documents/Datasets/the-tuh-eeg-s...  00000254_s006_t001   \n",
       "3     /home/rdadmin/Documents/Datasets/the-tuh-eeg-s...  00000254_s007_t000   \n",
       "4     /home/rdadmin/Documents/Datasets/the-tuh-eeg-s...  00000272_s007_t000   \n",
       "...                                                 ...                 ...   \n",
       "4594  /home/rdadmin/Documents/Datasets/the-tuh-eeg-s...  00013145_s003_t001   \n",
       "4595  /home/rdadmin/Documents/Datasets/the-tuh-eeg-s...  00013145_s003_t002   \n",
       "4596  /home/rdadmin/Documents/Datasets/the-tuh-eeg-s...  00013145_s003_t003   \n",
       "4597  /home/rdadmin/Documents/Datasets/the-tuh-eeg-s...  00013145_s003_t004   \n",
       "4598  /home/rdadmin/Documents/Datasets/the-tuh-eeg-s...  00013145_s003_t005   \n",
       "\n",
       "                                                    tse  \\\n",
       "0     /home/rdadmin/Documents/Datasets/the-tuh-eeg-s...   \n",
       "1     /home/rdadmin/Documents/Datasets/the-tuh-eeg-s...   \n",
       "2     /home/rdadmin/Documents/Datasets/the-tuh-eeg-s...   \n",
       "3     /home/rdadmin/Documents/Datasets/the-tuh-eeg-s...   \n",
       "4     /home/rdadmin/Documents/Datasets/the-tuh-eeg-s...   \n",
       "...                                                 ...   \n",
       "4594  /home/rdadmin/Documents/Datasets/the-tuh-eeg-s...   \n",
       "4595  /home/rdadmin/Documents/Datasets/the-tuh-eeg-s...   \n",
       "4596  /home/rdadmin/Documents/Datasets/the-tuh-eeg-s...   \n",
       "4597  /home/rdadmin/Documents/Datasets/the-tuh-eeg-s...   \n",
       "4598  /home/rdadmin/Documents/Datasets/the-tuh-eeg-s...   \n",
       "\n",
       "                                                tse_bin  \\\n",
       "0     /home/rdadmin/Documents/Datasets/the-tuh-eeg-s...   \n",
       "1     /home/rdadmin/Documents/Datasets/the-tuh-eeg-s...   \n",
       "2     /home/rdadmin/Documents/Datasets/the-tuh-eeg-s...   \n",
       "3     /home/rdadmin/Documents/Datasets/the-tuh-eeg-s...   \n",
       "4     /home/rdadmin/Documents/Datasets/the-tuh-eeg-s...   \n",
       "...                                                 ...   \n",
       "4594  /home/rdadmin/Documents/Datasets/the-tuh-eeg-s...   \n",
       "4595  /home/rdadmin/Documents/Datasets/the-tuh-eeg-s...   \n",
       "4596  /home/rdadmin/Documents/Datasets/the-tuh-eeg-s...   \n",
       "4597  /home/rdadmin/Documents/Datasets/the-tuh-eeg-s...   \n",
       "4598  /home/rdadmin/Documents/Datasets/the-tuh-eeg-s...   \n",
       "\n",
       "                                                    lbl  \\\n",
       "0     /home/rdadmin/Documents/Datasets/the-tuh-eeg-s...   \n",
       "1     /home/rdadmin/Documents/Datasets/the-tuh-eeg-s...   \n",
       "2     /home/rdadmin/Documents/Datasets/the-tuh-eeg-s...   \n",
       "3     /home/rdadmin/Documents/Datasets/the-tuh-eeg-s...   \n",
       "4     /home/rdadmin/Documents/Datasets/the-tuh-eeg-s...   \n",
       "...                                                 ...   \n",
       "4594  /home/rdadmin/Documents/Datasets/the-tuh-eeg-s...   \n",
       "4595  /home/rdadmin/Documents/Datasets/the-tuh-eeg-s...   \n",
       "4596  /home/rdadmin/Documents/Datasets/the-tuh-eeg-s...   \n",
       "4597  /home/rdadmin/Documents/Datasets/the-tuh-eeg-s...   \n",
       "4598  /home/rdadmin/Documents/Datasets/the-tuh-eeg-s...   \n",
       "\n",
       "                                                lbl_bin      montage  \n",
       "0     /home/rdadmin/Documents/Datasets/the-tuh-eeg-s...    01_tcp_ar  \n",
       "1     /home/rdadmin/Documents/Datasets/the-tuh-eeg-s...    01_tcp_ar  \n",
       "2     /home/rdadmin/Documents/Datasets/the-tuh-eeg-s...    01_tcp_ar  \n",
       "3     /home/rdadmin/Documents/Datasets/the-tuh-eeg-s...    01_tcp_ar  \n",
       "4     /home/rdadmin/Documents/Datasets/the-tuh-eeg-s...    01_tcp_ar  \n",
       "...                                                 ...          ...  \n",
       "4594  /home/rdadmin/Documents/Datasets/the-tuh-eeg-s...  03_tcp_ar_a  \n",
       "4595  /home/rdadmin/Documents/Datasets/the-tuh-eeg-s...  03_tcp_ar_a  \n",
       "4596  /home/rdadmin/Documents/Datasets/the-tuh-eeg-s...  03_tcp_ar_a  \n",
       "4597  /home/rdadmin/Documents/Datasets/the-tuh-eeg-s...  03_tcp_ar_a  \n",
       "4598  /home/rdadmin/Documents/Datasets/the-tuh-eeg-s...  03_tcp_ar_a  \n",
       "\n",
       "[4599 rows x 7 columns]"
      ]
     },
     "execution_count": 9,
     "metadata": {},
     "output_type": "execute_result"
    }
   ],
   "source": [
    "train_df"
   ]
  },
  {
   "cell_type": "code",
   "execution_count": 10,
   "metadata": {},
   "outputs": [
    {
     "data": {
      "text/plain": [
       "01_tcp_ar      3178\n",
       "03_tcp_ar_a     934\n",
       "02_tcp_le       487\n",
       "Name: montage, dtype: int64"
      ]
     },
     "execution_count": 10,
     "metadata": {},
     "output_type": "execute_result"
    }
   ],
   "source": [
    "train_df[\"montage\"].value_counts()"
   ]
  },
  {
   "cell_type": "markdown",
   "metadata": {},
   "source": [
    "### Read sample EEG reading and all accompnying metadata"
   ]
  },
  {
   "cell_type": "code",
   "execution_count": 11,
   "metadata": {},
   "outputs": [
    {
     "data": {
      "text/html": [
       "<div>\n",
       "<style scoped>\n",
       "    .dataframe tbody tr th:only-of-type {\n",
       "        vertical-align: middle;\n",
       "    }\n",
       "\n",
       "    .dataframe tbody tr th {\n",
       "        vertical-align: top;\n",
       "    }\n",
       "\n",
       "    .dataframe thead th {\n",
       "        text-align: right;\n",
       "    }\n",
       "</style>\n",
       "<table border=\"1\" class=\"dataframe\">\n",
       "  <thead>\n",
       "    <tr style=\"text-align: right;\">\n",
       "      <th></th>\n",
       "      <th>edf</th>\n",
       "      <th>base_name</th>\n",
       "      <th>tse</th>\n",
       "      <th>tse_bin</th>\n",
       "      <th>lbl</th>\n",
       "      <th>lbl_bin</th>\n",
       "      <th>montage</th>\n",
       "    </tr>\n",
       "  </thead>\n",
       "  <tbody>\n",
       "    <tr>\n",
       "      <th>1155</th>\n",
       "      <td>/home/rdadmin/Documents/Datasets/the-tuh-eeg-s...</td>\n",
       "      <td>00008552_s006_t005</td>\n",
       "      <td>/home/rdadmin/Documents/Datasets/the-tuh-eeg-s...</td>\n",
       "      <td>/home/rdadmin/Documents/Datasets/the-tuh-eeg-s...</td>\n",
       "      <td>/home/rdadmin/Documents/Datasets/the-tuh-eeg-s...</td>\n",
       "      <td>/home/rdadmin/Documents/Datasets/the-tuh-eeg-s...</td>\n",
       "      <td>01_tcp_ar</td>\n",
       "    </tr>\n",
       "  </tbody>\n",
       "</table>\n",
       "</div>"
      ],
      "text/plain": [
       "                                                    edf           base_name  \\\n",
       "1155  /home/rdadmin/Documents/Datasets/the-tuh-eeg-s...  00008552_s006_t005   \n",
       "\n",
       "                                                    tse  \\\n",
       "1155  /home/rdadmin/Documents/Datasets/the-tuh-eeg-s...   \n",
       "\n",
       "                                                tse_bin  \\\n",
       "1155  /home/rdadmin/Documents/Datasets/the-tuh-eeg-s...   \n",
       "\n",
       "                                                    lbl  \\\n",
       "1155  /home/rdadmin/Documents/Datasets/the-tuh-eeg-s...   \n",
       "\n",
       "                                                lbl_bin    montage  \n",
       "1155  /home/rdadmin/Documents/Datasets/the-tuh-eeg-s...  01_tcp_ar  "
      ]
     },
     "execution_count": 11,
     "metadata": {},
     "output_type": "execute_result"
    }
   ],
   "source": [
    "sample_reading = train_df.sample(1)\n",
    "sample_reading"
   ]
  },
  {
   "cell_type": "code",
   "execution_count": 12,
   "metadata": {},
   "outputs": [
    {
     "name": "stdout",
     "output_type": "stream",
     "text": [
      "Extracting EDF parameters from /home/rdadmin/Documents/Datasets/the-tuh-eeg-seizure-corpus-tusz/edf/train/01_tcp_ar/085/00008552/s006_2013_08_17/00008552_s006_t005.edf...\n",
      "EDF file detected\n",
      "Setting channel info structure...\n",
      "Creating raw.info structure...\n"
     ]
    },
    {
     "data": {
      "text/html": [
       "<table class=\"table table-hover table-striped table-sm table-responsive small\">\n",
       "    <tr>\n",
       "        <th>Measurement date</th>\n",
       "        \n",
       "        <td>August 18, 2013  00:37:28 GMT</td>\n",
       "        \n",
       "    </tr>\n",
       "    <tr>\n",
       "        <th>Experimenter</th>\n",
       "        \n",
       "        <td>Unknown</td>\n",
       "        \n",
       "    </tr>\n",
       "        <th>Participant</th>\n",
       "        \n",
       "        <td>Unknown</td>\n",
       "        \n",
       "    </tr>\n",
       "    <tr>\n",
       "        <th>Digitized points</th>\n",
       "        \n",
       "        <td>Not available</td>\n",
       "        \n",
       "    </tr>\n",
       "    <tr>\n",
       "        <th>Good channels</th>\n",
       "        <td>27 EEG</td>\n",
       "    </tr>\n",
       "    <tr>\n",
       "        <th>Bad channels</th>\n",
       "        <td>None</td>\n",
       "    </tr>\n",
       "    <tr>\n",
       "        <th>EOG channels</th>\n",
       "        <td>Not available</td>\n",
       "    </tr>\n",
       "    <tr>\n",
       "        <th>ECG channels</th>\n",
       "        <td>Not available</td>\n",
       "    \n",
       "    <tr>\n",
       "        <th>Sampling frequency</th>\n",
       "        <td>256.00 Hz</td>\n",
       "    </tr>\n",
       "    \n",
       "    \n",
       "    <tr>\n",
       "        <th>Highpass</th>\n",
       "        <td>0.00 Hz</td>\n",
       "    </tr>\n",
       "    \n",
       "    \n",
       "    <tr>\n",
       "        <th>Lowpass</th>\n",
       "        <td>128.00 Hz</td>\n",
       "    </tr>\n",
       "    \n",
       "    \n",
       "</table>"
      ],
      "text/plain": [
       "<Info | 7 non-empty values\n",
       " bads: []\n",
       " ch_names: EEG FP1-REF, EEG FP2-REF, EEG F3-REF, EEG F4-REF, EEG C3-REF, ...\n",
       " chs: 27 EEG\n",
       " custom_ref_applied: False\n",
       " highpass: 0.0 Hz\n",
       " lowpass: 128.0 Hz\n",
       " meas_date: 2013-08-18 00:37:28 UTC\n",
       " nchan: 27\n",
       " projs: []\n",
       " sfreq: 256.0 Hz\n",
       ">"
      ]
     },
     "execution_count": 12,
     "metadata": {},
     "output_type": "execute_result"
    }
   ],
   "source": [
    "\"\"\" Read EDF \"\"\"\n",
    "raw_edf = mne.io.read_raw_edf(sample_reading.edf.item())\n",
    "raw_edf.info"
   ]
  },
  {
   "cell_type": "markdown",
   "metadata": {},
   "source": [
    "Convert reading from `unipolar` to `bipolar` montage -> necessary for displaying and reading."
   ]
  },
  {
   "cell_type": "code",
   "execution_count": 13,
   "metadata": {},
   "outputs": [],
   "source": [
    "tcp_ar_unipolar_montage_pairs = montage_dict = {\n",
    "    \"Fp1-F7\": (\"EEG FP1-REF\", \"EEG F7-REF\"),\n",
    "    \"F7-T3\": (\"EEG F7-REF\", \"EEG T3-REF\"),\n",
    "    \"T3-T5\": (\"EEG T3-REF\", \"EEG T5-REF\"),\n",
    "    \"T5-O1\": (\"EEG T5-REF\", \"EEG O1-REF\"),\n",
    "    \"Fp2-F8\": (\"EEG FP2-REF\", \"EEG F8-REF\"),\n",
    "    \"F8-T4\": (\"EEG F8-REF\", \"EEG T4-REF\"),\n",
    "    \"T4-T6\": (\"EEG T4-REF\", \"EEG T6-REF\"),\n",
    "    \"T6-O2\": (\"EEG T6-REF\", \"EEG O2-REF\"),\n",
    "    \"A1-T3\": (\"EEG A1-REF\", \"EEG T3-REF\"),\n",
    "    \"T3-C3\": (\"EEG T3-REF\", \"EEG C3-REF\"),\n",
    "    \"C3-CZ\": (\"EEG C3-REF\", \"EEG CZ-REF\"),\n",
    "    \"CZ-C4\": (\"EEG CZ-REF\", \"EEG C4-REF\"),\n",
    "    \"C4-T4\": (\"EEG C4-REF\", \"EEG T4-REF\"),\n",
    "    \"T4-A2\":(\"EEG T4-REF\", \"EEG A2-REF\"),\n",
    "    \"Fp1-F3\": (\"EEG FP1-REF\", \"EEG F3-REF\"),\n",
    "    \"F3-C3\": (\"EEG F3-REF\", \"EEG C3-REF\"),\n",
    "    \"C3-P3\": (\"EEG C3-REF\", \"EEG P3-REF\"),\n",
    "    \"P3-O1\": (\"EEG P3-REF\", \"EEG O1-REF\"),\n",
    "    \"Fp2-F4\": (\"EEG FP2-REF\", \"EEG F4-REF\"),\n",
    "    \"F4-C4\": (\"EEG F4-REF\", \"EEG C4-REF\"),\n",
    "    \"C4-P4\": (\"EEG C4-REF\", \"EEG P4-REF\"),\n",
    "    \"P4-O2\": (\"EEG P4-REF\", \"EEG O2-REF\"),\n",
    "}\n",
    "\n",
    "tcp_le_unipolar_montage_pairs = montage_dict = {\n",
    "    \"Fp1-F7\": (\"EEG FP1-LE\", \"EEG F7-LE\"),\n",
    "    \"F7-T3\": (\"EEG F7-LE\", \"EEG T3-LE\"),\n",
    "    \"T3-T5\": (\"EEG T3-LE\", \"EEG T5-LE\"),\n",
    "    \"T5-O1\": (\"EEG T5-LE\", \"EEG O1-LE\"),\n",
    "    \"Fp2-F8\": (\"EEG FP2-LE\", \"EEG F8-LE\"),\n",
    "    \"F8-T4\": (\"EEG F8-LE\", \"EEG T4-LE\"),\n",
    "    \"T4-T6\": (\"EEG T4-LE\", \"EEG T6-LE\"),\n",
    "    \"T6-O2\": (\"EEG T6-LE\", \"EEG O2-LE\"),\n",
    "    \"A1-T3\": (\"EEG A1-LE\", \"EEG T3-LE\"),\n",
    "    \"T3-C3\": (\"EEG T3-LE\" ,\"EEG C3-LE\"),\n",
    "    \"C3-CZ\": (\"EEG C3-LE\", \"EEG CZ-LE\"),\n",
    "    \"CZ-C4\": (\"EEG C3-LE\",\"EEG CZ-LE\"),\n",
    "    \"C4-T4\": (\"EEG F7-LE\", \"EEG T3-LE\"),\n",
    "    \"T4-A2\":(\"EEG T3-LE\", \"EEG T5-LE\"),\n",
    "    \"Fp1-F3\": (\"EEG T5-LE\", \"EEG O1-LE\"),\n",
    "    \"F3-C3\": (\"EEG FP2-LE\", \"EEG F8-LE\"),\n",
    "    \"C3-P3\": (\"EEG F8-LE\", \"EEG T4-LE\"),\n",
    "    \"P3-O1\": (\"EEG T4-LE\", \"EEG T6-LE\"),\n",
    "    \"Fp2-F4\": (\"EEG T6-LE\", \"EEG O2-LE\"),\n",
    "    \"F4-C4\": (\"EEG A1-LE\", \"EEG T3-LE\"),\n",
    "    \"C4-P4\": (\"EEG T3-LE\", \"EEG C3-LE\"),\n",
    "    \"P4-O2\": (\"EEG C3-LE\", \"EEG CZ-LE\"),\n",
    "}\n"
   ]
  },
  {
   "cell_type": "code",
   "execution_count": 14,
   "metadata": {},
   "outputs": [
    {
     "data": {
      "text/plain": [
       "(1, 76800)"
      ]
     },
     "execution_count": 14,
     "metadata": {},
     "output_type": "execute_result"
    }
   ],
   "source": [
    "raw_edf[\"EEG FP1-REF\"][0].shape"
   ]
  },
  {
   "cell_type": "code",
   "execution_count": 37,
   "metadata": {},
   "outputs": [],
   "source": [
    "def to_bipolar_montage(reading:pd.Series):\n",
    "    # read raw EEG data\n",
    "    raw_eeg = mne.io.read_raw_edf(reading.edf,preload=True,verbose=False)\n",
    "    # filter low frequencies below 1Hz and high frequencies above 60Hz (power-line noise)\n",
    "    raw_eeg.filter(1.0,None,verbose=False) # high pass filter\n",
    "    raw_eeg.filter(None,60.0,verbose=False) # low pass filter\n",
    "    # get raw numpy data and find the bipolar value based on the montage type\n",
    "    s_freq = raw_eeg.info['sfreq']\n",
    "    \n",
    "    differential_array = []\n",
    "    if reading.montage == \"01_tcp_ar\":\n",
    "        channel_names = []\n",
    "        for key,value in tcp_ar_unipolar_montage_pairs.items():\n",
    "            channel_names.append(key)\n",
    "            # get the raw channel values and convert them to float16\n",
    "            chnl_1_value = raw_eeg[value[0]][0][0].astype(np.float16) # np.array\n",
    "            chnl_2_value = raw_eeg[value[1]][0][0].astype(np.float16) # np.array\n",
    "\n",
    "            differential_array.append(chnl_1_value - chnl_2_value)\n",
    "\n",
    "    if reading.montage == \"03_tcp_ar_a\":\n",
    "        channel_names = []\n",
    "        for key,value in tcp_ar_unipolar_montage_pairs.items():\n",
    "\n",
    "            match_set = set(value[0].split(' ') + value[1].split(' '))\n",
    "            if \"A1-REF\" in match_set or \"A2-REF\" in match_set:\n",
    "                continue  \n",
    "            channel_names.append(key)\n",
    "            # get the raw channel values and convert them to float16\n",
    "            chnl_1_value = raw_eeg[value[0]][0][0].astype(np.float16) # np.array\n",
    "            chnl_2_value = raw_eeg[value[1]][0][0].astype(np.float16) # np.array\n",
    "            differential_array.append(chnl_1_value - chnl_2_value) \n",
    "            \n",
    "    if reading.montage == \"02_tcp_le\":\n",
    "        channel_names = []\n",
    "        for key,value in tcp_le_unipolar_montage_pairs.items():\n",
    "            channel_names.append(key)\n",
    "            # get the raw channel values and convert them to float16\n",
    "            chnl_1_value = raw_eeg[value[0]][0][0].astype(np.float16) # np.array\n",
    "            chnl_2_value = raw_eeg[value[1]][0][0].astype(np.float16) # np.array\n",
    "            differential_array.append(chnl_1_value - chnl_2_value)\n",
    "\n",
    "    #create a mne eef data\n",
    "    bipolar_montage_info = mne.create_info(\n",
    "        ch_names = channel_names,\n",
    "        sfreq = s_freq,\n",
    "        ch_types =\"eeg\"\n",
    "    )\n",
    "    bipolar_montage_raw = mne.io.RawArray(differential_array,info=bipolar_montage_info,verbose=False)\n",
    "\n",
    "    differential_array = np.array(differential_array)\n",
    "    return bipolar_montage_raw,s_freq"
   ]
  },
  {
   "cell_type": "markdown",
   "metadata": {},
   "source": [
    "- Save the `bipolar_montage` value as an `.npz` file with the necessary annotations.\n",
    "- Annotations will be divided as `term-based` and `channel-based`"
   ]
  },
  {
   "cell_type": "code",
   "execution_count": 24,
   "metadata": {},
   "outputs": [],
   "source": [
    "def get_term_based_annotation_data(tse_path:str):\n",
    "    \"\"\" Read the term-based annotations .tse\n",
    "        Args:\n",
    "            tse_path(str):path to `.tse` file\n",
    "        Return:\n",
    "            A tuple containing\n",
    "              start_time:float\n",
    "              stop_time:float\n",
    "              label:str\n",
    "    \"\"\"\n",
    "    with open(tse_path,\"r\") as tse_file:\n",
    "        lines = tse_file.readlines()\n",
    "    term_annotation = []\n",
    "    for line in lines[2:]:\n",
    "        line = line.strip().split(' ')\n",
    "        start_time,stop_time,label,prob = line\n",
    "\n",
    "        term_annotation.append({\n",
    "            \"start_time\":start_time,\n",
    "            \"stop_time\":stop_time,\n",
    "            \"class_label\":label,\n",
    "        })\n",
    "\n",
    "    return term_annotation"
   ]
  },
  {
   "cell_type": "code",
   "execution_count": 34,
   "metadata": {},
   "outputs": [
    {
     "name": "stdout",
     "output_type": "stream",
     "text": [
      "(22, 301250)\n",
      "-0.00012153387069702148\n"
     ]
    },
    {
     "data": {
      "image/png": "[encoded data removed]",
      "text/plain": [
       "<Figure size 640x480 with 1 Axes>"
      ]
     },
     "metadata": {},
     "output_type": "display_data"
    }
   ],
   "source": [
    "for i,reading in train_df.iterrows():\n",
    "    eeg,_ = to_bipolar_montage(reading)\n",
    "\n",
    "    val = eeg.get_data()\n",
    "    print(val.shape)\n",
    "    print(val[0][:1000][400])\n",
    "    sns.lineplot(val[0][:1000])\n",
    "    plt.show()\n",
    "    break\n"
   ]
  },
  {
   "cell_type": "code",
   "execution_count": 38,
   "metadata": {},
   "outputs": [
    {
     "name": "stdout",
     "output_type": "stream",
     "text": [
      "(22, 301250)\n",
      "-4.774332046508789e-05\n"
     ]
    },
    {
     "data": {
      "image/png": "[encoded data removed]",
      "text/plain": [
       "<Figure size 640x480 with 1 Axes>"
      ]
     },
     "metadata": {},
     "output_type": "display_data"
    }
   ],
   "source": [
    "for i,reading in train_df.iterrows():\n",
    "    eeg,_ = to_bipolar_montage(reading)\n",
    "\n",
    "    val = eeg.get_data()\n",
    "    print(val.shape)\n",
    "    print(val[0][:1000][400])\n",
    "    sns.lineplot(val[0][:1000])\n",
    "    plt.show()\n",
    "    break"
   ]
  },
  {
   "cell_type": "code",
   "execution_count": 114,
   "metadata": {},
   "outputs": [],
   "source": [
    "class_dict = {0: '(null)', 1: 'spsw', 2: 'gped', 3: 'pled', 4: 'eyem', 5: 'artf', 6: 'bckg', 7: 'seiz', 8: 'fnsz', 9: 'gnsz', 10: 'spsz', 11: 'cpsz', 12: 'absz', 13: 'tnsz', 14: 'cnsz', 15: 'tcsz', 16: 'atsz', 17: 'mysz', 18: 'nesz', 19: 'intr', 20: 'slow', 21: 'eyem', 22: 'chew', 23: 'shiv', 24: 'musc', 25: 'elpp', 26: 'elst', 27: 'calb'}"
   ]
  },
  {
   "cell_type": "code",
   "execution_count": 115,
   "metadata": {},
   "outputs": [],
   "source": [
    "import ast\n",
    "def get_channel_based_annotation_data(lbl_path:str):\n",
    "    \"\"\" Read the channel based annotations .lbl\n",
    "        Args:\n",
    "            tse_path(str):path to `.tse` file\n",
    "        Return:\n",
    "            A list of dictionaries\n",
    "    \"\"\"\n",
    "    with open(lbl_path,\"r\") as lbl_file:\n",
    "        lines = lbl_file.readlines()\n",
    "        lines = [line.strip() for line in lines if line.startswith(\"label\")]\n",
    "    channel_annot= []\n",
    "    for line in lines:\n",
    "        line = str(line.strip('label = '))\n",
    "        line = line.replace(\"{\",\"(\").replace(\"}\",\")\")\n",
    "        line = line.replace(\"[\",\"(\").replace(\"]\",\")\")\n",
    "     \n",
    "        tuple_ = ast.literal_eval(line)\n",
    "        channel_annot.append(\n",
    "            {\n",
    "                \"channel\":tuple_[4],\n",
    "                \"start_time\":tuple_[2],\n",
    "                \"stop_time\":tuple_[3],\n",
    "                \"class\":class_dict[tuple_[5].index(1)]\n",
    "            }\n",
    "        )\n",
    "    return channel_annot"
   ]
  },
  {
   "cell_type": "code",
   "execution_count": 116,
   "metadata": {},
   "outputs": [
    {
     "name": "stdout",
     "output_type": "stream",
     "text": [
      "1\n"
     ]
    }
   ],
   "source": [
    "l =[0,1,0,0,0,0]\n",
    "print(l.index(1))"
   ]
  },
  {
   "cell_type": "code",
   "execution_count": 117,
   "metadata": {},
   "outputs": [],
   "source": [
    "from tqdm import tqdm\n",
    "import json\n",
    "\n",
    "\n",
    "def compress_and_save(reading:pd.Series,save_dir:str=None):\n",
    "    \"\"\" Convert bipolar_montage arrays into a numpy compressed file and save it while keeping the original file name structure\n",
    "    Args:\n",
    "        df(pd.Dataframe): the dataframe to the datasets\n",
    "        dataset_directory(str): save directory\n",
    "        subset: either `train` or `test`\n",
    "    \"\"\"\n",
    "    \n",
    "    bipolar_array,s_freq = to_bipolar_montage(reading)\n",
    "\n",
    "    tse_annot = get_term_based_annotation_data(reading.tse)\n",
    "    lbl_annot = get_channel_based_annotation_data(reading.lbl)\n",
    "\n",
    "    npz_filepath = os.path.join(save_dir,f\"{reading.base_name}.npz\")\n",
    "    \n",
    "    term_annot = {\n",
    "            \"npz_filepath\":npz_filepath,\n",
    "            \"s_freq\":s_freq,\n",
    "            \"montage\":reading.montage,\n",
    "            \"term_annot\":tse_annot\n",
    "        }\n",
    "\n",
    "    channel_annot = {\n",
    "            \"npz_filepath\":npz_filepath,\n",
    "            \"s_freq\":s_freq,\n",
    "            \"montage\":reading.montage,\n",
    "            \"channel_annot\":lbl_annot\n",
    "        } \n",
    "\n",
    "    # compress each bipolar_array and save to save_dir\n",
    "    np.savez_compressed(npz_filepath,bipolar_array)\n",
    "\n",
    "    return term_annot,channel_annot\n",
    "    "
   ]
  },
  {
   "cell_type": "code",
   "execution_count": 118,
   "metadata": {},
   "outputs": [],
   "source": [
    "from joblib import Parallel,delayed"
   ]
  },
  {
   "cell_type": "code",
   "execution_count": 119,
   "metadata": {},
   "outputs": [
    {
     "name": "stderr",
     "output_type": "stream",
     "text": [
      "100%|██████████| 4/4 [00:00<00:00, 55.79it/s]\n"
     ]
    }
   ],
   "source": [
    "def make_dataset(df:pd.DataFrame,dataset_directory:str =\"../bipolar_eeg_dataset\",subset:str=\"train\"):\n",
    "    save_dir = os.path.join(dataset_directory,subset)\n",
    "    # create `dataset_directory` and `subset`\n",
    "    if not os.path.exists(save_dir):\n",
    "        os.makedirs(save_dir)\n",
    "\n",
    "    term_based = []\n",
    "    channel_based = []\n",
    "    with Parallel(n_jobs=4) as parallel:\n",
    "        results  = parallel(\n",
    "            delayed(compress_and_save)\n",
    "            (reading,save_dir) \n",
    "            for i,reading in tqdm(df.iterrows(),total=len(df))\n",
    "            )\n",
    "        for result in results:\n",
    "            term_based.append(result[0])\n",
    "            channel_based.append(result[1])\n",
    "\n",
    "    # write dictionaries to json\n",
    "    with open(f\"{dataset_directory}/term_based_annotation.json\",\"w\") as term_based_json:\n",
    "        term_based_json.write(json.dumps(term_based))\n",
    "    \n",
    "    with open(f\"{dataset_directory}/channel_based_annotation.json\",\"w\") as channel_based_json:\n",
    "        channel_based_json.write(json.dumps(channel_based))\n",
    "\n",
    "    \n",
    "make_dataset(train_df.sample(4))"
   ]
  }
 ],
 "metadata": {
  "kernelspec": {
   "display_name": "eeg",
   "language": "python",
   "name": "python3"
  },
  "language_info": {
   "codemirror_mode": {
    "name": "ipython",
    "version": 3
   },
   "file_extension": ".py",
   "mimetype": "text/x-python",
   "name": "python",
   "nbconvert_exporter": "python",
   "pygments_lexer": "ipython3",
   "version": "3.11.4"
  },
  "orig_nbformat": 4
 },
 "nbformat": 4,
 "nbformat_minor": 2
}
